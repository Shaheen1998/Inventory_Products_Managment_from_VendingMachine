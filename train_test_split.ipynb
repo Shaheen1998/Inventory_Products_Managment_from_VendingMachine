{
 "cells": [
  {
   "cell_type": "code",
   "execution_count": null,
   "id": "a4ac8f14-7da6-4f7c-b61e-ed7084dcef00",
   "metadata": {},
   "outputs": [],
   "source": [
    "import os\n",
    "import random\n",
    "import shutil\n",
    "\n",
    "# Define paths to the folders\n",
    "images_folder = './datasets/compiled dataset/images'\n",
    "labels_folder = './datasets/compiled dataset/labels'\n",
    "output_folder = './datasets/dataset'\n",
    "\n",
    "\n",
    "# Get list of image filenames\n",
    "image_filenames = os.listdir(images_folder)\n",
    "\n",
    "# Randomly shuffle the filenames\n",
    "random.shuffle(image_filenames)\n",
    "\n",
    "# Calculate the number of images for training and validation (75% and 25%)\n",
    "num_train = int(0.8 * len(image_filenames))\n",
    "num_val = len(image_filenames) - num_train\n",
    "\n",
    "# Divide the filenames into training and validation sets\n",
    "train_filenames = image_filenames[:num_train]\n",
    "val_filenames = image_filenames[num_train:]\n",
    "\n",
    "# Move images and labels to training folder\n",
    "for filename in train_filenames:\n",
    "    image_path = os.path.join(images_folder, filename)\n",
    "    label_path = os.path.join(labels_folder, os.path.splitext(filename)[0] + '.txt')\n",
    "    shutil.copy(image_path, f\"{output_folder}/images/train\")\n",
    "    shutil.copy(label_path, f\"{output_folder}/labels/train\")\n",
    "    # break\n",
    "\n",
    "# Move images and labels to validation folder\n",
    "for filename in val_filenames:\n",
    "    image_path = os.path.join(images_folder, filename)\n",
    "    label_path = os.path.join(labels_folder, os.path.splitext(filename)[0] + '.txt')\n",
    "    shutil.copy(image_path, f\"{output_folder}/images/valid\")\n",
    "    shutil.copy(label_path, f\"{output_folder}/labels/valid\")\n",
    "    # break\n"
   ]
  }
 ],
 "metadata": {
  "kernelspec": {
   "display_name": "Python 3 (ipykernel)",
   "language": "python",
   "name": "python3"
  },
  "language_info": {
   "codemirror_mode": {
    "name": "ipython",
    "version": 3
   },
   "file_extension": ".py",
   "mimetype": "text/x-python",
   "name": "python",
   "nbconvert_exporter": "python",
   "pygments_lexer": "ipython3",
   "version": "3.10.12"
  }
 },
 "nbformat": 4,
 "nbformat_minor": 5
}
